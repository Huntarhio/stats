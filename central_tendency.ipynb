{
 "cells": [
  {
   "cell_type": "code",
   "execution_count": 38,
   "metadata": {},
   "outputs": [],
   "source": [
    "def arithmetic(data):\n",
    "    \"\"\"    \n",
    "    Description: \n",
    "                computes the arithmetic mean of a list, series, or a one-dimensional vector object\n",
    "    \n",
    "    Args: \n",
    "        a list, series, or a one-dimensional vector object\n",
    "    \n",
    "    Returns: \n",
    "            a float like object\n",
    "    \"\"\"\n",
    "    return sum(data)/len(data)"
   ]
  },
  {
   "cell_type": "code",
   "execution_count": 34,
   "metadata": {},
   "outputs": [],
   "source": [
    "def geometric(data):\n",
    "    \"\"\"    \n",
    "    Description: \n",
    "                computes the geometric mean of a list, series, or a one-dimensional vector object\n",
    "    \n",
    "    Args: \n",
    "        a list, series, or a one-dimensional vector object\n",
    "    \n",
    "    Returns: \n",
    "            a float like object\n",
    "    \"\"\"\n",
    "    result = 1\n",
    "    for x in data:\n",
    "        result *= x\n",
    "    final_result = result**(1/len(data))\n",
    "    return round(final_result, 4)"
   ]
  },
  {
   "cell_type": "code",
   "execution_count": 88,
   "metadata": {},
   "outputs": [],
   "source": [
    "def harmonic(data):\n",
    "    \"\"\"    \n",
    "    Description: \n",
    "                computes the harmonic mean of a list, series, or a one-dimensional vector object\n",
    "    \n",
    "    Args: \n",
    "        data (a list, series, or a one-dimensional vector object): object for which the harmonic mean is computed\n",
    "    \n",
    "    Returns: \n",
    "            float: harmonic mean of data\n",
    "    \"\"\"\n",
    "    data_inverse = [1/x for x in data]\n",
    "    \n",
    "    return len(data)/sum(data_inverse)"
   ]
  },
  {
   "cell_type": "code",
   "execution_count": 89,
   "metadata": {},
   "outputs": [],
   "source": [
    "def median(data, order='ascending'):\n",
    "    \"\"\"    \n",
    "    Description: \n",
    "                computes the median of a list, series, or a one-dimensional vector object\n",
    "    \n",
    "    Args: \n",
    "        data (a list, series, or a one-dimensional vector object): object for which the median is computed\n",
    "    \n",
    "    Returns: \n",
    "            float: computed median of data\n",
    "    \"\"\"\n",
    "    \n",
    "    \n",
    "    if order == 'ascending':\n",
    "        sorted_list = sorted(data, reverse=False)\n",
    "    elif order == 'descending':\n",
    "        sorted_list = sorted(data, reverse=True)\n",
    "        \n",
    "    mid_index = (len(data) + 1)/2\n",
    "    \n",
    "    if len(data) % 2 > 0:\n",
    "        result = sorted_list[int(mid_index)]\n",
    "    elif len(data) % 2 == 0:\n",
    "        result = arithmetic([sorted_list[int(mid_index)], sorted_list[int(mid_index)-1]])\n",
    "\n",
    "        \n",
    "    return result"
   ]
  },
  {
   "cell_type": "code",
   "execution_count": 107,
   "metadata": {},
   "outputs": [],
   "source": [
    "def mode(data):\n",
    "\n",
    "    \"\"\"    \n",
    "    Description: \n",
    "                computes the most commot item of a list, series, or a one-dimensional vector object\n",
    "    \n",
    "    Args: \n",
    "        data (a list, series, or a one-dimensional vector object): object for which the , mode is computed\n",
    "    \n",
    "    Returns: \n",
    "            float: computed mode of data. it more than one mode, first mode item is returned\n",
    "    \"\"\"\n",
    "    \n",
    "    from collections import Counter\n",
    "    \n",
    "    return Counter(data).most_common(1)[0][0]"
   ]
  },
  {
   "cell_type": "code",
   "execution_count": null,
   "metadata": {},
   "outputs": [],
   "source": []
  }
 ],
 "metadata": {
  "kernelspec": {
   "display_name": "Python 3",
   "language": "python",
   "name": "python3"
  },
  "language_info": {
   "codemirror_mode": {
    "name": "ipython",
    "version": 3
   },
   "file_extension": ".py",
   "mimetype": "text/x-python",
   "name": "python",
   "nbconvert_exporter": "python",
   "pygments_lexer": "ipython3",
   "version": "3.7.3"
  }
 },
 "nbformat": 4,
 "nbformat_minor": 2
}
